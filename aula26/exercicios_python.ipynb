{
 "cells": [
  {
   "cell_type": "markdown",
   "id": "b057f335",
   "metadata": {},
   "source": [
    "# Exercício 1: Peça ao usuário um número e diga se ele é par ou ímpar."
   ]
  },
  {
   "cell_type": "code",
   "execution_count": 24,
   "id": "e1fd0c38",
   "metadata": {},
   "outputs": [
    {
     "name": "stdout",
     "output_type": "stream",
     "text": [
      "10.0 é par\n"
     ]
    }
   ],
   "source": [
    "num = float(input(\"Digite um número: \"))\n",
    "if num % 2 == 0:\n",
    "    print(f\"{num} é par\")\n",
    "else:\n",
    "    print(f\"{num} é ímpar\")"
   ]
  },
  {
   "cell_type": "markdown",
   "id": "0f51e595",
   "metadata": {},
   "source": [
    "# Exercício 2: Leia a idade de uma pessoa e informe se ela é menor de idade, adulta ou idosa (>= 60)."
   ]
  },
  {
   "cell_type": "code",
   "execution_count": 25,
   "id": "b8bff903",
   "metadata": {},
   "outputs": [
    {
     "name": "stdout",
     "output_type": "stream",
     "text": [
      "Você é menor de idade.\n"
     ]
    }
   ],
   "source": [
    "idade = int(input(\"Digite sua idade: \"))\n",
    "if idade < 18:\n",
    "    print(\"Você é menor de idade.\")\n",
    "elif idade >= 60 and idade <= 125:\n",
    "    print(\"Você é idoso(a)\")\n",
    "elif idade >= 18 and idade < 60:\n",
    "    print(\"Você é adulto(a)\")\n",
    "elif idade > 125:\n",
    "    print(\"Idade muito grande!\")\n",
    "else:\n",
    "    print(\"Idade inválida!\")"
   ]
  },
  {
   "cell_type": "markdown",
   "id": "d14c3125",
   "metadata": {},
   "source": [
    "# Exercício 3: Peça duas notas e calcule a média. Diga se o aluno está aprovado (média >= 7)."
   ]
  },
  {
   "cell_type": "code",
   "execution_count": 26,
   "id": "9a1481a7",
   "metadata": {},
   "outputs": [
    {
     "name": "stdout",
     "output_type": "stream",
     "text": [
      "Média das notas: 10.0\n"
     ]
    }
   ],
   "source": [
    "notas = []\n",
    "for i in range (2):\n",
    "    nota = float(input(f\"Digite a {i+1}ª nota:\"))\n",
    "    notas.append(nota)\n",
    "media = sum(notas) / 2\n",
    "print(f\"Média das notas: {media}\")\n"
   ]
  },
  {
   "cell_type": "markdown",
   "id": "fbd11a3d",
   "metadata": {},
   "source": [
    "# Exercício 4: Solicite o nome de uma pessoa e diga se ele começa com a letra 'A'."
   ]
  },
  {
   "cell_type": "code",
   "execution_count": 27,
   "id": "4472f0d7",
   "metadata": {},
   "outputs": [
    {
     "name": "stdout",
     "output_type": "stream",
     "text": [
      " não começa com a letra \"A\".\n"
     ]
    }
   ],
   "source": [
    "nome = input(\"Digite seu nome: \")\n",
    "if nome.startswith(\"A\") or nome.startswith(\"a\"):\n",
    "    print(f'{nome} começa com \"A\".')\n",
    "else:\n",
    "    print(f'{nome} não começa com a letra \"A\".')"
   ]
  },
  {
   "cell_type": "markdown",
   "id": "9a6ecffb",
   "metadata": {},
   "source": [
    "# Exercício 5: Peça um número inteiro e verifique se ele é positivo, negativo ou zero."
   ]
  },
  {
   "cell_type": "code",
   "execution_count": 28,
   "id": "78453c72",
   "metadata": {},
   "outputs": [
    {
     "ename": "ValueError",
     "evalue": "invalid literal for int() with base 10: ''",
     "output_type": "error",
     "traceback": [
      "\u001b[31m---------------------------------------------------------------------------\u001b[39m",
      "\u001b[31mValueError\u001b[39m                                Traceback (most recent call last)",
      "\u001b[36mCell\u001b[39m\u001b[36m \u001b[39m\u001b[32mIn[28]\u001b[39m\u001b[32m, line 1\u001b[39m\n\u001b[32m----> \u001b[39m\u001b[32m1\u001b[39m num = \u001b[38;5;28;43mint\u001b[39;49m\u001b[43m(\u001b[49m\u001b[38;5;28;43minput\u001b[39;49m\u001b[43m(\u001b[49m\u001b[33;43m\"\u001b[39;49m\u001b[33;43mDigite um número inteiro:\u001b[39;49m\u001b[33;43m\"\u001b[39;49m\u001b[43m)\u001b[49m\u001b[43m)\u001b[49m\n\u001b[32m      2\u001b[39m \u001b[38;5;28;01mif\u001b[39;00m num > \u001b[32m0\u001b[39m:\n\u001b[32m      3\u001b[39m     \u001b[38;5;28mprint\u001b[39m(\u001b[33mf\u001b[39m\u001b[33m\"\u001b[39m\u001b[38;5;132;01m{\u001b[39;00mnum\u001b[38;5;132;01m}\u001b[39;00m\u001b[33m é positivo!\u001b[39m\u001b[33m\"\u001b[39m)\n",
      "\u001b[31mValueError\u001b[39m: invalid literal for int() with base 10: ''"
     ]
    }
   ],
   "source": [
    "num = int(input(\"Digite um número inteiro:\"))\n",
    "if num > 0:\n",
    "    print(f\"{num} é positivo!\")\n",
    "elif num < 0:\n",
    "    print(f\"{num} é negativo!\")\n",
    "else:\n",
    "    print(f\"{num} é zero.\")"
   ]
  },
  {
   "cell_type": "markdown",
   "id": "ed41b4ca",
   "metadata": {},
   "source": [
    "# Exercício 6: Imprima os números de 1 a 10 com for."
   ]
  },
  {
   "cell_type": "code",
   "execution_count": null,
   "id": "efb34a6c",
   "metadata": {},
   "outputs": [],
   "source": [
    "for i in range (10):\n",
    "    print(i+1, end=\" \")"
   ]
  },
  {
   "cell_type": "markdown",
   "id": "83163c5e",
   "metadata": {},
   "source": [
    "# Exercício 7: Imprima os números de 10 a 1 com while."
   ]
  },
  {
   "cell_type": "code",
   "execution_count": null,
   "id": "28c47327",
   "metadata": {},
   "outputs": [
    {
     "name": "stdout",
     "output_type": "stream",
     "text": [
      "10 9 8 7 6 5 4 3 2 1 "
     ]
    }
   ],
   "source": [
    "i = 10\n",
    "while i >= 1:\n",
    "    print(i, end=\" \")\n",
    "    i-=1"
   ]
  },
  {
   "cell_type": "markdown",
   "id": "408ae015",
   "metadata": {},
   "source": [
    "# Exercício 8: Calcule a soma dos números de 1 a 100."
   ]
  },
  {
   "cell_type": "code",
   "execution_count": null,
   "id": "b6835c14",
   "metadata": {},
   "outputs": [
    {
     "name": "stdout",
     "output_type": "stream",
     "text": [
      "5050\n"
     ]
    }
   ],
   "source": [
    "soma = 0\n",
    "for i in range(101):\n",
    "    soma+=i\n",
    "print(soma)"
   ]
  },
  {
   "cell_type": "markdown",
   "id": "ec740a27",
   "metadata": {},
   "source": [
    "# Exercício 9: Peça 5 números ao usuário e diga qual é o maior."
   ]
  },
  {
   "cell_type": "code",
   "execution_count": null,
   "id": "c4e65c0a",
   "metadata": {},
   "outputs": [
    {
     "name": "stdout",
     "output_type": "stream",
     "text": [
      "10.0 9.0 8.0 7.0 6.0\n",
      "10.0 é o maior número digitado\n"
     ]
    }
   ],
   "source": [
    "num = []\n",
    "for i in range(5):\n",
    "    soma = float(input(f\"Digite o {i+1}º número: \"))\n",
    "    num.append(soma)\n",
    "print(*num)\n",
    "maior = max(num)\n",
    "print(f\"{maior} é o maior número digitado\")"
   ]
  },
  {
   "cell_type": "markdown",
   "id": "3916a505",
   "metadata": {},
   "source": [
    "# Exercício 10: Peça números ao usuário até que ele digite 0, e então exiba a média dos valores digitados."
   ]
  },
  {
   "cell_type": "code",
   "execution_count": 33,
   "id": "a7c8729f",
   "metadata": {},
   "outputs": [
    {
     "name": "stdout",
     "output_type": "stream",
     "text": [
      "Soma de números! Digite 0 para sair.\n",
      "50.0\n"
     ]
    }
   ],
   "source": [
    "verifica = True\n",
    "i = 1\n",
    "soma = 0\n",
    "print(\"Soma de números! Digite 0 para sair.\")\n",
    "while verifica:\n",
    "    num = float(input(f\"Digite o {i}º número:\"))\n",
    "    if num == 0:\n",
    "        verifica = False\n",
    "    else:\n",
    "        soma += num\n",
    "    i+=1\n",
    "print(soma)"
   ]
  },
  {
   "cell_type": "markdown",
   "id": "5178e752",
   "metadata": {},
   "source": [
    "# Exercício 11: Crie uma lista com 5 números digitados pelo usuário e imprima a lista."
   ]
  },
  {
   "cell_type": "code",
   "execution_count": 34,
   "id": "5f40ed1a",
   "metadata": {},
   "outputs": [
    {
     "name": "stdout",
     "output_type": "stream",
     "text": [
      "1.0 2.0 3.0 4.0 5.0\n"
     ]
    }
   ],
   "source": [
    "l = []\n",
    "for i in range(5):\n",
    "    num = float(input(f\"Digite o {i+1}º número:\"))\n",
    "    l.append(num)\n",
    "print(*l)"
   ]
  },
  {
   "cell_type": "markdown",
   "id": "0983311d",
   "metadata": {},
   "source": [
    "# Exercício 12: Some todos os elementos de uma lista."
   ]
  },
  {
   "cell_type": "code",
   "execution_count": null,
   "id": "5f5d23a3",
   "metadata": {},
   "outputs": [
    {
     "name": "stdout",
     "output_type": "stream",
     "text": [
      "O array vai se repetir 5 vezes.\n",
      "Valores atribuidos ao array: [10.0, 10.0, 10.0, 10.0, 10.0]\n",
      "Somando todos os valores, resulta-se em: 50.0.\n"
     ]
    }
   ],
   "source": [
    "import random\n",
    "\n",
    "l = []\n",
    "aleatorio = random.randint(1,10)\n",
    "n = int(input(\"Qual vai ser o tamanho do array?\"))\n",
    "if n < 0:\n",
    "    print(\"Valor inválido! Atribuindo um valor automático ao array...\")\n",
    "    n = aleatorio\n",
    "print(f\"O array vai se repetir {n} vezes.\")\n",
    "\n",
    "for i in range (n):\n",
    "    soma = float(input(f\"Digite o {i+1}º número: \"))\n",
    "    l.append(soma)\n",
    "\n",
    "print(f\"Valores atribuidos ao array: {l}\")\n",
    "soma = sum(l)\n",
    "print(f\"Somando todos os valores da lista, resulta-se em: {soma}.\")\n"
   ]
  },
  {
   "cell_type": "markdown",
   "id": "84c598b8",
   "metadata": {},
   "source": [
    "# Exercício 13: Encontre o maior e o menor valor de uma lista."
   ]
  },
  {
   "cell_type": "code",
   "execution_count": 50,
   "id": "ceb0f310",
   "metadata": {},
   "outputs": [
    {
     "name": "stdout",
     "output_type": "stream",
     "text": [
      "O array vai se repetir 4 vezes.\n",
      "Lista recebida: [1.0, 2.0, 3.0, 4.0]\n",
      "Maior valor: 4.0\n",
      "Menor valor: 1.0\n"
     ]
    }
   ],
   "source": [
    "import random\n",
    "\n",
    "l = []\n",
    "aleatorio = random.randint(1,10)\n",
    "n = int(input(\"Digite quantas vezes a lista deve se repetir: \"))\n",
    "if n < 0:\n",
    "    print(\"Valor não pode ser menor de 0. Atribuindo um valor aleatório à lista...\")\n",
    "    n = aleatorio\n",
    "print(f\"O array vai se repetir {n} vezes.\")\n",
    "\n",
    "for i in range (n):\n",
    "    num = float(input(f\"Digite o {i+1} valor: \"))\n",
    "    l.append(num)\n",
    "\n",
    "print(f\"Lista recebida: {l}\")\n",
    "maior = max(l)\n",
    "menor = min(l)\n",
    "print(f\"Maior valor: {maior}\\nMenor valor: {menor}\")"
   ]
  },
  {
   "cell_type": "markdown",
   "id": "b3401528",
   "metadata": {},
   "source": [
    "# Exercício 14: Conte quantos números pares existem em uma lista."
   ]
  },
  {
   "cell_type": "code",
   "execution_count": null,
   "id": "1b87a5ce",
   "metadata": {},
   "outputs": [
    {
     "name": "stdout",
     "output_type": "stream",
     "text": [
      "O array vai se repetir 6 vezes.\n",
      "Lista recebida: [1.0, 2.0, 3.0, 4.0, 5.0, 6.0]\n",
      "Valores pares existentes: [2.0, 4.0, 6.0] - 3 números.\n",
      "Valores Ímpares existentes: [1.0, 3.0, 5.0] - 3 números\n"
     ]
    }
   ],
   "source": [
    "import random\n",
    "\n",
    "l = []\n",
    "l_par = []\n",
    "l_impar = []\n",
    "aleatorio = random.randint(1,10)\n",
    "count_par = 0\n",
    "count_impar = 0\n",
    "n = int(input(\"Digite quantas vezes a lista deve se repetir: \"))\n",
    "if n < 0:\n",
    "    print(\"Valor não pode ser menor de 0. Atribuindo um valor aleatório à lista...\")\n",
    "    n = aleatorio\n",
    "print(f\"O array vai se repetir {n} vezes.\")\n",
    "\n",
    "for i in range (n):\n",
    "    num = float(input(f\"Digite o {i+1}º número: \"))\n",
    "    l.append(num)\n",
    "    if num % 2 == 0:\n",
    "        count_par+=1\n",
    "        l_par.append(num)\n",
    "        \n",
    "    else:\n",
    "        count_impar+=1\n",
    "        l_impar.append(num)\n",
    "\n",
    "print(f\"Lista recebida: {l}\\nValores pares existentes: {l_par} - {count_par} número(s).\\nValores Ímpares existentes: {l_impar} - {count_impar} número(s)\")"
   ]
  },
  {
   "cell_type": "markdown",
   "id": "f5ff5c1b",
   "metadata": {},
   "source": [
    "# Exercício 15: Peça uma lista de nomes e diga quantos começam com a letra 'M'."
   ]
  },
  {
   "cell_type": "code",
   "execution_count": null,
   "id": "76400be8",
   "metadata": {},
   "outputs": [
    {
     "name": "stdout",
     "output_type": "stream",
     "text": [
      "A lista tera 6 unidades.\n",
      "Lista de nomes recebida: ['Mauri', 'Manuela', 'Mercedes', 'Bruno', 'Eduarda', 'Marcelo']\n",
      "Nomes começados em M: ['Mauri', 'Manuela', 'Mercedes', 'Marcelo'] - 4 vez(es)\n"
     ]
    }
   ],
   "source": [
    "import random\n",
    "\n",
    "l_nome = []\n",
    "l_nome_comecado_em_m = []\n",
    "count_m = 0\n",
    "aleatorio = random.randint(1,10)\n",
    "n = int(input(\"Digite quantos nomes você quer registrar: \"))\n",
    "if n < 0:\n",
    "    print(\"Valor não pode ser menor de 0. Atribuindo um valor aleatório à lista...\")\n",
    "    n = aleatorio\n",
    "print(f\"A lista tera {n} unidades.\")\n",
    "\n",
    "for i in range (n):\n",
    "    nomes = input(f\"Digite o {i+1} nome: \")\n",
    "    l_nome.append(nomes)\n",
    "    if nomes.startswith(\"M\") or nomes.startswith(\"m\"):\n",
    "        count_m+=1\n",
    "        l_nome_comecado_em_m.append(nomes)\n",
    "print(f\"Lista de nomes recebida: {l_nome}\\nNomes começados em M: {l_nome_comecado_em_m} - {count_m} vez(es)\")\n"
   ]
  },
  {
   "cell_type": "markdown",
   "id": "72d0dc42",
   "metadata": {},
   "source": [
    "# Desafio 1: Peça ao usuário uma quantidade de alunos e, para cada um, o nome e duas notas. Armazene em listas e exiba a média de cada aluno."
   ]
  },
  {
   "cell_type": "code",
   "execution_count": 68,
   "id": "c7ac75b2",
   "metadata": {},
   "outputs": [
    {
     "name": "stdout",
     "output_type": "stream",
     "text": [
      "A lista terá 2 unidades.\n",
      "Aluno: Bruno - Média: 3.50\n",
      "Aluno: Marcelo - Média: 7.50\n"
     ]
    }
   ],
   "source": [
    "import random\n",
    "\n",
    "l_nome_aluno = []\n",
    "l_nota = []\n",
    "l_media = []\n",
    "aleatorio = random.randint(1,10)\n",
    "n = int(input(\"Digite quantos alunos você quer registrar: \"))\n",
    "if n < 0:\n",
    "    print(\"Valor não pode ser menor de 0. Atribuindo um valor aleatório à lista...\")\n",
    "    n = aleatorio\n",
    "print(f\"A lista terá {n} unidades.\")\n",
    "\n",
    "for i in range (n):\n",
    "    aluno = input(f\"Digite o nome do {i+1}º aluno: \")\n",
    "    l_nome_aluno.append(aluno)\n",
    "    nota1 = float(input(f\"Digite a primeira nota de {aluno}: \"))\n",
    "    nota2 = float(input(f\"Digite a segunda nota de {aluno}: \"))\n",
    "    media = (nota1 + nota2) / 2\n",
    "    l_media.append(media)\n",
    "\n",
    "for i in range (n):\n",
    "    print(f\"Aluno: {l_nome_aluno[i]} - Média: {l_media[i]:.2f}\")\n",
    "    "
   ]
  },
  {
   "cell_type": "markdown",
   "id": "27300b0d",
   "metadata": {},
   "source": [
    "# Desafio 2: Gere uma lista com os números de 1 a 20, mas apenas os múltiplos de 3."
   ]
  },
  {
   "cell_type": "code",
   "execution_count": null,
   "id": "30371484",
   "metadata": {},
   "outputs": [],
   "source": []
  },
  {
   "cell_type": "markdown",
   "id": "1505ef2a",
   "metadata": {},
   "source": [
    "# Desafio 3: Peça ao usuário 10 números e exiba quais são primos."
   ]
  },
  {
   "cell_type": "code",
   "execution_count": null,
   "id": "58dcb059",
   "metadata": {},
   "outputs": [],
   "source": []
  },
  {
   "cell_type": "markdown",
   "id": "d1f38556",
   "metadata": {},
   "source": [
    "# Desafio 4: Dada uma lista de números, crie uma nova lista apenas com os valores únicos (sem repetições)."
   ]
  },
  {
   "cell_type": "code",
   "execution_count": null,
   "id": "1babc947",
   "metadata": {},
   "outputs": [],
   "source": []
  },
  {
   "cell_type": "markdown",
   "id": "9e3f4031",
   "metadata": {},
   "source": [
    "# Desafio 5: Crie um programa que simula um menu de opções (ex: cadastrar item, listar itens, sair), usando while e if."
   ]
  },
  {
   "cell_type": "code",
   "execution_count": null,
   "id": "6098900f",
   "metadata": {},
   "outputs": [],
   "source": []
  }
 ],
 "metadata": {
  "kernelspec": {
   "display_name": "Python 3",
   "language": "python",
   "name": "python3"
  },
  "language_info": {
   "codemirror_mode": {
    "name": "ipython",
    "version": 3
   },
   "file_extension": ".py",
   "mimetype": "text/x-python",
   "name": "python",
   "nbconvert_exporter": "python",
   "pygments_lexer": "ipython3",
   "version": "3.13.6"
  }
 },
 "nbformat": 4,
 "nbformat_minor": 5
}
