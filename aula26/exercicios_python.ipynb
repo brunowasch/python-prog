{
 "cells": [
  {
   "cell_type": "markdown",
   "id": "b057f335",
   "metadata": {},
   "source": [
    "# Exercício 1: Peça ao usuário um número e diga se ele é par ou ímpar."
   ]
  },
  {
   "cell_type": "code",
   "execution_count": null,
   "id": "e1fd0c38",
   "metadata": {},
   "outputs": [
    {
     "name": "stdout",
     "output_type": "stream",
     "text": [
      "10.0 é par\n"
     ]
    }
   ],
   "source": [
    "print(\"Verificador de números pares ou ímpares.\")\n",
    "num = float(input(\"Digite um número: \"))\n",
    "if num % 2 == 0:\n",
    "    print(f\"{num} é par\")\n",
    "else:\n",
    "    print(f\"{num} é ímpar\")"
   ]
  },
  {
   "cell_type": "markdown",
   "id": "0f51e595",
   "metadata": {},
   "source": [
    "# Exercício 2: Leia a idade de uma pessoa e informe se ela é menor de idade, adulta ou idosa (>= 60)."
   ]
  },
  {
   "cell_type": "code",
   "execution_count": null,
   "id": "b8bff903",
   "metadata": {},
   "outputs": [
    {
     "name": "stdout",
     "output_type": "stream",
     "text": [
      "Você é menor de idade.\n"
     ]
    }
   ],
   "source": [
    "print(\"Verificador de idade!\")\n",
    "idade = int(input(\"Digite sua idade: \"))\n",
    "if idade < 18:\n",
    "    print(\"Você é menor de idade.\")\n",
    "elif idade >= 60 and idade <= 125:\n",
    "    print(\"Você é idoso(a)\")\n",
    "elif idade >= 18 and idade < 60:\n",
    "    print(\"Você é adulto(a)\")\n",
    "elif idade > 125:\n",
    "    print(\"Idade muito grande!\")\n",
    "else:\n",
    "    print(\"Idade inválida!\")"
   ]
  },
  {
   "cell_type": "markdown",
   "id": "d14c3125",
   "metadata": {},
   "source": [
    "# Exercício 3: Peça duas notas e calcule a média. Diga se o aluno está aprovado (média >= 7)."
   ]
  },
  {
   "cell_type": "code",
   "execution_count": null,
   "id": "9a1481a7",
   "metadata": {},
   "outputs": [
    {
     "name": "stdout",
     "output_type": "stream",
     "text": [
      "Média das notas: 10.0\n"
     ]
    }
   ],
   "source": [
    "notas = []\n",
    "print(\"Cálculo de média entre duas notas!\")\n",
    "for i in range (2):\n",
    "    nota = float(input(f\"Digite a {i+1}ª nota:\"))\n",
    "    notas.append(nota)\n",
    "media = sum(notas) / 2\n",
    "print(f\"Média das notas: {media}\")\n"
   ]
  },
  {
   "cell_type": "markdown",
   "id": "fbd11a3d",
   "metadata": {},
   "source": [
    "# Exercício 4: Solicite o nome de uma pessoa e diga se ele começa com a letra 'A'."
   ]
  },
  {
   "cell_type": "code",
   "execution_count": null,
   "id": "4472f0d7",
   "metadata": {},
   "outputs": [
    {
     "name": "stdout",
     "output_type": "stream",
     "text": [
      " não começa com a letra \"A\".\n"
     ]
    }
   ],
   "source": [
    "print(\"Verificador de letra 'A' no nome:\")\n",
    "nome = input(\"Digite seu nome: \")\n",
    "if nome.startswith(\"A\") or nome.startswith(\"a\"):\n",
    "    print(f'{nome} começa com \"A\".')\n",
    "else:\n",
    "    print(f'{nome} não começa com a letra \"A\".')"
   ]
  },
  {
   "cell_type": "markdown",
   "id": "9a6ecffb",
   "metadata": {},
   "source": [
    "# Exercício 5: Peça um número inteiro e verifique se ele é positivo, negativo ou zero."
   ]
  },
  {
   "cell_type": "code",
   "execution_count": null,
   "id": "78453c72",
   "metadata": {},
   "outputs": [
    {
     "name": "stdout",
     "output_type": "stream",
     "text": [
      "10 é positivo!\n"
     ]
    }
   ],
   "source": [
    "print(\"Verificador de números!\")\n",
    "num = int(input(\"Digite um número inteiro:\"))\n",
    "if num > 0:\n",
    "    print(f\"{num} é positivo!\")\n",
    "elif num < 0:\n",
    "    print(f\"{num} é negativo!\")\n",
    "else:\n",
    "    print(f\"{num} é zero.\")"
   ]
  },
  {
   "cell_type": "markdown",
   "id": "ed41b4ca",
   "metadata": {},
   "source": [
    "# Exercício 6: Imprima os números de 1 a 10 com for."
   ]
  },
  {
   "cell_type": "code",
   "execution_count": null,
   "id": "efb34a6c",
   "metadata": {},
   "outputs": [
    {
     "name": "stdout",
     "output_type": "stream",
     "text": [
      "1 2 3 4 5 6 7 8 9 10 "
     ]
    }
   ],
   "source": [
    "print(\"Segue abaixo os valores de 1 a 10:\")\n",
    "for i in range (10):\n",
    "    print(i+1, end=\" \")"
   ]
  },
  {
   "cell_type": "markdown",
   "id": "83163c5e",
   "metadata": {},
   "source": [
    "# Exercício 7: Imprima os números de 10 a 1 com while."
   ]
  },
  {
   "cell_type": "code",
   "execution_count": null,
   "id": "28c47327",
   "metadata": {},
   "outputs": [
    {
     "name": "stdout",
     "output_type": "stream",
     "text": [
      "10 9 8 7 6 5 4 3 2 1 "
     ]
    }
   ],
   "source": [
    "i = 10\n",
    "print(\"Impressão inversa de números:\")\n",
    "while i >= 1:\n",
    "    print(i, end=\" \")\n",
    "    i-=1"
   ]
  },
  {
   "cell_type": "markdown",
   "id": "408ae015",
   "metadata": {},
   "source": [
    "# Exercício 8: Calcule a soma dos números de 1 a 100."
   ]
  },
  {
   "cell_type": "code",
   "execution_count": null,
   "id": "b6835c14",
   "metadata": {},
   "outputs": [
    {
     "name": "stdout",
     "output_type": "stream",
     "text": [
      "5050\n"
     ]
    }
   ],
   "source": [
    "print(\"Somando os números de 1 a 100\")\n",
    "soma = 0\n",
    "for i in range(101):\n",
    "    soma+=i\n",
    "print(soma)"
   ]
  },
  {
   "cell_type": "markdown",
   "id": "ec740a27",
   "metadata": {},
   "source": [
    "# Exercício 9: Peça 5 números ao usuário e diga qual é o maior."
   ]
  },
  {
   "cell_type": "code",
   "execution_count": null,
   "id": "c4e65c0a",
   "metadata": {},
   "outputs": [
    {
     "name": "stdout",
     "output_type": "stream",
     "text": [
      "10.0 10.0 10.0 10.0 10.0\n",
      "10.0 é o maior número digitado\n"
     ]
    }
   ],
   "source": [
    "num = []\n",
    "print(\"Verificador de maior número:\")\n",
    "for i in range(5):\n",
    "    soma = float(input(f\"Digite o {i+1}º número: \"))\n",
    "    num.append(soma)\n",
    "print(*num)\n",
    "maior = max(num)\n",
    "print(f\"{maior} é o maior número digitado\")"
   ]
  },
  {
   "cell_type": "markdown",
   "id": "3916a505",
   "metadata": {},
   "source": [
    "# Exercício 10: Peça números ao usuário até que ele digite 0, e então exiba a média dos valores digitados."
   ]
  },
  {
   "cell_type": "code",
   "execution_count": 21,
   "id": "a7c8729f",
   "metadata": {},
   "outputs": [
    {
     "name": "stdout",
     "output_type": "stream",
     "text": [
      "Soma de números! Digite 0 para sair.\n",
      "15.0\n"
     ]
    }
   ],
   "source": [
    "verifica = True\n",
    "i = 1\n",
    "soma = 0\n",
    "print(\"Soma de números! Digite 0 para sair.\")\n",
    "while verifica:\n",
    "    num = float(input(f\"Digite o {i}º número:\"))\n",
    "    if num == 0:\n",
    "        verifica = False\n",
    "    else:\n",
    "        soma += num\n",
    "    i+=1\n",
    "print(soma)"
   ]
  },
  {
   "cell_type": "markdown",
   "id": "5178e752",
   "metadata": {},
   "source": [
    "# Exercício 11: Crie uma lista com 5 números digitados pelo usuário e imprima a lista."
   ]
  },
  {
   "cell_type": "code",
   "execution_count": 23,
   "id": "5f40ed1a",
   "metadata": {},
   "outputs": [
    {
     "name": "stdout",
     "output_type": "stream",
     "text": [
      "Lista de números digitados!\n",
      "1.0 2.0 3.0 4.0 5.0\n"
     ]
    }
   ],
   "source": [
    "l = []\n",
    "print(\"Lista de números digitados!\")\n",
    "for i in range(5):\n",
    "    num = float(input(f\"Digite o {i+1}º número:\"))\n",
    "    l.append(num)\n",
    "print(*l)"
   ]
  },
  {
   "cell_type": "markdown",
   "id": "0983311d",
   "metadata": {},
   "source": [
    "# Exercício 12: Some todos os elementos de uma lista."
   ]
  },
  {
   "cell_type": "code",
   "execution_count": 25,
   "id": "5f5d23a3",
   "metadata": {},
   "outputs": [
    {
     "name": "stdout",
     "output_type": "stream",
     "text": [
      "Soma de números em uma lista!\n",
      "O array vai se repetir 3 vezes.\n",
      "Valores atribuidos ao array: [1.0, 2.0, 3.0]\n",
      "Somando todos os valores da lista, resulta-se em: 6.0.\n"
     ]
    }
   ],
   "source": [
    "import random\n",
    "\n",
    "l = []\n",
    "aleatorio = random.randint(1,10)\n",
    "print(\"Soma de números em uma lista!\")\n",
    "n = int(input(\"Qual vai ser o tamanho do array?\"))\n",
    "if n < 0:\n",
    "    print(\"Valor inválido! Atribuindo um valor automático ao array...\")\n",
    "    n = aleatorio\n",
    "print(f\"O array vai se repetir {n} vezes.\")\n",
    "\n",
    "for i in range (n):\n",
    "    soma = float(input(f\"Digite o {i+1}º número: \"))\n",
    "    l.append(soma)\n",
    "\n",
    "print(f\"Valores atribuidos ao array: {l}\")\n",
    "soma = sum(l)\n",
    "print(f\"Somando todos os valores da lista, resulta-se em: {soma}.\")\n"
   ]
  },
  {
   "cell_type": "markdown",
   "id": "84c598b8",
   "metadata": {},
   "source": [
    "# Exercício 13: Encontre o maior e o menor valor de uma lista."
   ]
  },
  {
   "cell_type": "code",
   "execution_count": 27,
   "id": "ceb0f310",
   "metadata": {},
   "outputs": [
    {
     "name": "stdout",
     "output_type": "stream",
     "text": [
      "Encontrando o maior e o menor número de uma lista!\n",
      "O array vai se repetir 3 vezes.\n",
      "Lista recebida: [1.0, 2.0, 3.0]\n",
      "Maior valor: 3.0\n",
      "Menor valor: 1.0\n"
     ]
    }
   ],
   "source": [
    "import random\n",
    "\n",
    "l = []\n",
    "aleatorio = random.randint(1,10)\n",
    "print(\"Encontrando o maior e o menor número de uma lista!\")\n",
    "n = int(input(\"Digite quantas vezes a lista deve se repetir: \"))\n",
    "if n < 0:\n",
    "    print(\"Valor não pode ser menor de 0. Atribuindo um valor aleatório à lista...\")\n",
    "    n = aleatorio\n",
    "print(f\"O array vai se repetir {n} vezes.\")\n",
    "\n",
    "for i in range (n):\n",
    "    num = float(input(f\"Digite o {i+1} valor: \"))\n",
    "    l.append(num)\n",
    "\n",
    "print(f\"Lista recebida: {l}\")\n",
    "maior = max(l)\n",
    "menor = min(l)\n",
    "print(f\"Maior valor: {maior}\\nMenor valor: {menor}\")"
   ]
  },
  {
   "cell_type": "markdown",
   "id": "b3401528",
   "metadata": {},
   "source": [
    "# Exercício 14: Conte quantos números pares existem em uma lista."
   ]
  },
  {
   "cell_type": "code",
   "execution_count": 29,
   "id": "1b87a5ce",
   "metadata": {},
   "outputs": [
    {
     "name": "stdout",
     "output_type": "stream",
     "text": [
      "Contador de números pares em uma lista!\n",
      "O array vai se repetir 3 vezes.\n",
      "Lista recebida: [1.0, 2.0, 3.0]\n",
      "Valores pares existentes: [2.0] - 1 número(s).\n",
      "Valores Ímpares existentes: [1.0, 3.0] - 2 número(s)\n"
     ]
    }
   ],
   "source": [
    "import random\n",
    "\n",
    "l = []\n",
    "l_par = []\n",
    "l_impar = []\n",
    "aleatorio = random.randint(1,10)\n",
    "count_par = 0\n",
    "count_impar = 0\n",
    "print(\"Contador de números pares em uma lista!\")\n",
    "n = int(input(\"Digite quantas vezes a lista deve se repetir: \"))\n",
    "if n < 0:\n",
    "    print(\"Valor não pode ser menor de 0. Atribuindo um valor aleatório à lista...\")\n",
    "    n = aleatorio\n",
    "print(f\"O array vai se repetir {n} vezes.\")\n",
    "\n",
    "for i in range (n):\n",
    "    num = float(input(f\"Digite o {i+1}º número: \"))\n",
    "    l.append(num)\n",
    "    if num % 2 == 0:\n",
    "        count_par+=1\n",
    "        l_par.append(num)\n",
    "        \n",
    "    else:\n",
    "        count_impar+=1\n",
    "        l_impar.append(num)\n",
    "\n",
    "print(f\"Lista recebida: {l}\\nValores pares existentes: {l_par} - {count_par} número(s).\\nValores Ímpares existentes: {l_impar} - {count_impar} número(s)\")"
   ]
  },
  {
   "cell_type": "markdown",
   "id": "f5ff5c1b",
   "metadata": {},
   "source": [
    "# Exercício 15: Peça uma lista de nomes e diga quantos começam com a letra 'M'."
   ]
  },
  {
   "cell_type": "code",
   "execution_count": 36,
   "id": "76400be8",
   "metadata": {},
   "outputs": [
    {
     "name": "stdout",
     "output_type": "stream",
     "text": [
      "Verificador de letra 'M' no nome:\n"
     ]
    },
    {
     "name": "stdout",
     "output_type": "stream",
     "text": [
      "A lista terá 3 unidades.\n",
      "Lista de nomes recebida: ['Mauro', 'Marlon', 'Eduarda']\n",
      "Nomes começados em M: ['Mauro', 'Marlon'] - 2 nome(s)\n"
     ]
    }
   ],
   "source": [
    "import random\n",
    "\n",
    "l_nome = []\n",
    "l_nome_comecado_em_m = []\n",
    "count_m = 0\n",
    "aleatorio = random.randint(1,10)\n",
    "print(\"Verificador de letra 'M' no nome:\")\n",
    "n = int(input(\"Digite quantos nomes você quer registrar: \"))\n",
    "if n < 0:\n",
    "    print(\"Valor não pode ser menor de 0. Atribuindo um valor aleatório à lista...\")\n",
    "    n = aleatorio\n",
    "print(f\"A lista terá {n} unidades.\")\n",
    "\n",
    "for i in range (n):\n",
    "    nomes = input(f\"Digite o {i+1} nome: \")\n",
    "    l_nome.append(nomes)\n",
    "    if nomes.startswith(\"M\") or nomes.startswith(\"m\"):\n",
    "        count_m+=1\n",
    "        l_nome_comecado_em_m.append(nomes)\n",
    "print(f\"Lista de nomes recebida: {l_nome}\\nNomes começados em M: {l_nome_comecado_em_m} - {count_m} nome(s)\")\n"
   ]
  },
  {
   "cell_type": "markdown",
   "id": "72d0dc42",
   "metadata": {},
   "source": [
    "# Desafio 1: Peça ao usuário uma quantidade de alunos e, para cada um, o nome e duas notas. Armazene em listas e exiba a média de cada aluno."
   ]
  },
  {
   "cell_type": "code",
   "execution_count": 38,
   "id": "c7ac75b2",
   "metadata": {},
   "outputs": [
    {
     "name": "stdout",
     "output_type": "stream",
     "text": [
      "Cálculo de média de alunos!\n",
      "A lista terá 3 unidades.\n",
      "Aluno: Yuri - Média: 10.00\n",
      "Aluno: Leandro - Média: 5.00\n",
      "Aluno: Otávio - Média: 4.50\n"
     ]
    }
   ],
   "source": [
    "import random\n",
    "\n",
    "l_nome_aluno = []\n",
    "l_nota = []\n",
    "l_media = []\n",
    "aleatorio = random.randint(1,10)\n",
    "print(\"Cálculo de média de alunos!\")\n",
    "n = int(input(\"Digite quantos alunos você quer registrar: \"))\n",
    "if n < 0:\n",
    "    print(\"Valor não pode ser menor de 0. Atribuindo um valor aleatório à lista...\")\n",
    "    n = aleatorio\n",
    "print(f\"A lista terá {n} unidades.\")\n",
    "\n",
    "for i in range (n):\n",
    "    aluno = input(f\"Digite o nome do {i+1}º aluno: \")\n",
    "    l_nome_aluno.append(aluno)\n",
    "    nota1 = float(input(f\"Digite a primeira nota de {aluno}: \"))\n",
    "    nota2 = float(input(f\"Digite a segunda nota de {aluno}: \"))\n",
    "    media = (nota1 + nota2) / 2\n",
    "    l_media.append(media)\n",
    "\n",
    "for i in range (n):\n",
    "    print(f\"Aluno: {l_nome_aluno[i]} - Média: {l_media[i]:.2f}\")\n",
    "    "
   ]
  },
  {
   "cell_type": "markdown",
   "id": "27300b0d",
   "metadata": {},
   "source": [
    "# Desafio 2: Gere uma lista com os números de 1 a 20, mas apenas os múltiplos de 3."
   ]
  },
  {
   "cell_type": "code",
   "execution_count": 45,
   "id": "30371484",
   "metadata": {},
   "outputs": [
    {
     "name": "stdout",
     "output_type": "stream",
     "text": [
      "Exibindo números múltiplos de três em uma lista:\n",
      "0 3 6 9 12 15 18 "
     ]
    }
   ],
   "source": [
    "print(\"Exibindo números múltiplos de três em uma lista:\")\n",
    "for i in range (21):\n",
    "    if(i % 3 == 0):\n",
    "        print(i, end=\" \")"
   ]
  },
  {
   "cell_type": "markdown",
   "id": "1505ef2a",
   "metadata": {},
   "source": [
    "# Desafio 3: Peça ao usuário 10 números e exiba quais são primos."
   ]
  },
  {
   "cell_type": "code",
   "execution_count": 47,
   "id": "58dcb059",
   "metadata": {},
   "outputs": [
    {
     "name": "stdout",
     "output_type": "stream",
     "text": [
      "Exibidor de números primos!\n",
      "Números menores ou iguais a 1 não são primos.\n",
      "Lista recebida: [2, 3, 4, 5, 6, 7, 8, 9, 10]\n",
      "Números primos: [2, 3, 5, 7] - 4 número(s)\n"
     ]
    }
   ],
   "source": [
    "num = []\n",
    "num_primo = []\n",
    "count_primo = 0\n",
    "\n",
    "print(\"Exibidor de números primos!\")\n",
    "\n",
    "for i in range(10):\n",
    "    valor = int(input(f\"Digite o {i+1}º número: \"))\n",
    "    if valor <= 1:\n",
    "        print(\"Números menores ou iguais a 1 não são primos.\")\n",
    "        continue\n",
    "\n",
    "    primo = True  \n",
    "    for j in range(2, int(valor ** 0.5) + 1):\n",
    "        if valor % j == 0:\n",
    "            primo = False\n",
    "\n",
    "    if primo: \n",
    "        num_primo.append(valor)\n",
    "        count_primo += 1\n",
    "\n",
    "    num.append(valor)\n",
    "\n",
    "print(f\"Lista recebida: {num}\\nNúmeros primos: {num_primo} - {count_primo} número(s)\")\n"
   ]
  },
  {
   "cell_type": "markdown",
   "id": "d1f38556",
   "metadata": {},
   "source": [
    "# Desafio 4: Dada uma lista de números, crie uma nova lista apenas com os valores únicos (sem repetições)."
   ]
  },
  {
   "cell_type": "code",
   "execution_count": 49,
   "id": "1babc947",
   "metadata": {},
   "outputs": [
    {
     "name": "stdout",
     "output_type": "stream",
     "text": [
      "Verificador de números iguais em uma lista!\n",
      "A lista terá 3 espaço(s) para números.\n",
      "1.0 já foi inserido no vetor e será ignorado.\n",
      "Lista de números: [1.0, 2.0]\n"
     ]
    }
   ],
   "source": [
    "import random\n",
    "\n",
    "l = []\n",
    "l_unico = []\n",
    "aleatorio = random.randint(1,10)\n",
    "print(\"Verificador de números iguais em uma lista!\")\n",
    "n = int(input(\"Digite quantos números você quer adicionar à lista de números: \"))\n",
    "if n < 0:\n",
    "    print(\"Valor não pode ser maior que 0. Atribuindo um valor aleatório à lista...\")\n",
    "    n = aleatorio\n",
    "print(f\"A lista terá {n} espaço(s) para números.\")\n",
    "\n",
    "for i in range (n):\n",
    "    num = float(input(f\"Digite o {i+1}º número: \"))\n",
    "    l.append(num)\n",
    "    if num not in l_unico:\n",
    "        l_unico.append(num)\n",
    "    else:\n",
    "        print(f\"{num} já foi inserido no vetor e será ignorado.\")\n",
    "\n",
    "print(f\"Lista de números: {l_unico}\")\n",
    "    "
   ]
  },
  {
   "cell_type": "markdown",
   "id": "9e3f4031",
   "metadata": {},
   "source": [
    "# Desafio 5: Crie um programa que simula um menu de opções (ex: cadastrar item, listar itens, sair), usando while e if."
   ]
  },
  {
   "cell_type": "code",
   "execution_count": 51,
   "id": "6098900f",
   "metadata": {},
   "outputs": [
    {
     "name": "stdout",
     "output_type": "stream",
     "text": [
      "==== Menu de opções! ====\n",
      "\"Garrafa pet\" cadastrado(a)!\n",
      "\"Apagador de lousa\" cadastrado(a)!\n",
      "\"Notebook\" cadastrado(a)!\n",
      "Itens cadastrados: ['Garrafa pet', 'Apagador de lousa', 'Notebook']\n",
      "==== Lista encerrada! ====\n",
      "Lista final: ['Garrafa pet', 'Apagador de lousa', 'Notebook']\n"
     ]
    }
   ],
   "source": [
    "item = []\n",
    "item_num = 0\n",
    "verifica = True\n",
    "opcao = 0\n",
    "\n",
    "print(\"==== Menu de opções! ====\")\n",
    "while verifica:\n",
    "    opcao = int(input(\"O que você deseja fazer?\\n1- Cadastrar item\\n2-Listar itens\\n3-Sair\"))\n",
    "    if opcao == 1:\n",
    "        cadastro = input(\"Cadastre o item: \")\n",
    "        item_num+=1\n",
    "        item.append(cadastro)\n",
    "        print(f'\"{cadastro}\" cadastrado(a)!')\n",
    "    elif opcao == 2:\n",
    "            print(f\"Itens cadastrados: {item}\")\n",
    "    elif opcao == 3:\n",
    "        verifica = False\n",
    "    else:\n",
    "        print(\"Valor inválido!\")\n",
    "print(\"==== Lista encerrada! ====\")\n",
    "print(f\"Lista final: {item}\")"
   ]
  }
 ],
 "metadata": {
  "kernelspec": {
   "display_name": "Python 3",
   "language": "python",
   "name": "python3"
  },
  "language_info": {
   "codemirror_mode": {
    "name": "ipython",
    "version": 3
   },
   "file_extension": ".py",
   "mimetype": "text/x-python",
   "name": "python",
   "nbconvert_exporter": "python",
   "pygments_lexer": "ipython3",
   "version": "3.13.6"
  }
 },
 "nbformat": 4,
 "nbformat_minor": 5
}
